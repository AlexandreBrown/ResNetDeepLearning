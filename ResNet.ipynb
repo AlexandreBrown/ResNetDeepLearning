{
 "cells": [
  {
   "cell_type": "markdown",
   "metadata": {},
   "source": [
    "# Scientific Paper"
   ]
  },
  {
   "cell_type": "markdown",
   "metadata": {},
   "source": [
    "The model architecture in this notebook was based on the paper Deep residual networks for image recognition by He et al. (2015). \n",
    "\n",
    "See the paper for more details : https://arxiv.org/abs/1512.03385   \n",
    "\n",
    "<img src=\"images/ResNet.png\" style=\"width:1000px;height:200px;\">  \n",
    "\n",
    "Note : I made some slight modifications to the original architectures, for instance I used a more powerful skip of 3 connections instead of 2. These modifications are based on Andrew Ng recommendations from his Deep Learning: Convolutional Neural Networks course."
   ]
  },
  {
   "cell_type": "markdown",
   "metadata": {},
   "source": [
    "# Dependencies"
   ]
  },
  {
   "cell_type": "code",
   "execution_count": 1,
   "metadata": {},
   "outputs": [
    {
     "name": "stdout",
     "output_type": "stream",
     "text": [
      "\r\n",
      "CondaValueError: prefix already exists: /home/user/miniconda3/envs/resnet\r\n",
      "\r\n"
     ]
    }
   ],
   "source": [
    "!conda env create -f environment.yml"
   ]
  },
  {
   "cell_type": "code",
   "execution_count": 2,
   "metadata": {},
   "outputs": [
    {
     "data": {
      "text/plain": [
       "<torch._C.Generator at 0x7f90b40bad50>"
      ]
     },
     "execution_count": 2,
     "metadata": {},
     "output_type": "execute_result"
    }
   ],
   "source": [
    "import torch \n",
    "import torch.nn as nn\n",
    "import torchvision.transforms as transforms\n",
    "import torchvision.datasets as dsets\n",
    "import matplotlib.pylab as plt\n",
    "import numpy as np\n",
    "\n",
    "from tqdm import tqdm\n",
    "from torchvision.transforms import Compose\n",
    "from torchvision.transforms import Normalize\n",
    "from torchvision.transforms import Resize\n",
    "from torchvision.transforms import ToTensor\n",
    "\n",
    "%matplotlib inline\n",
    "torch.manual_seed(0)"
   ]
  },
  {
   "cell_type": "markdown",
   "metadata": {},
   "source": [
    "# Data"
   ]
  },
  {
   "cell_type": "code",
   "execution_count": 3,
   "metadata": {},
   "outputs": [],
   "source": [
    "IMAGE_SIZE=64"
   ]
  },
  {
   "cell_type": "markdown",
   "metadata": {},
   "source": [
    "## Preprocessing"
   ]
  },
  {
   "cell_type": "code",
   "execution_count": 4,
   "metadata": {},
   "outputs": [],
   "source": [
    "preprocessing = transforms.Compose([\n",
    "    transforms.Resize((IMAGE_SIZE, IMAGE_SIZE)), \n",
    "    transforms.ToTensor(),\n",
    "    Normalize(mean=(0.5), std=(0.5))\n",
    "])"
   ]
  },
  {
   "cell_type": "markdown",
   "metadata": {},
   "source": [
    "## Datasets"
   ]
  },
  {
   "cell_type": "code",
   "execution_count": 5,
   "metadata": {},
   "outputs": [
    {
     "name": "stderr",
     "output_type": "stream",
     "text": [
      "/home/user/.local/lib/python3.9/site-packages/torchvision/datasets/mnist.py:498: UserWarning: The given NumPy array is not writeable, and PyTorch does not support non-writeable tensors. This means you can write to the underlying (supposedly non-writeable) NumPy array using the tensor. You may want to copy the array to protect its data or make it writeable before converting it to a tensor. This type of warning will be suppressed for the rest of this program. (Triggered internally at  /pytorch/torch/csrc/utils/tensor_numpy.cpp:180.)\n",
      "  return torch.from_numpy(parsed.astype(m[2], copy=False)).view(*s)\n"
     ]
    }
   ],
   "source": [
    "train_dataset = dsets.MNIST(root='./data', train=True, download=True, transform=preprocessing)"
   ]
  },
  {
   "cell_type": "code",
   "execution_count": 6,
   "metadata": {},
   "outputs": [],
   "source": [
    "test_dataset = dsets.MNIST(root='./data', train=False, download=True, transform=preprocessing)"
   ]
  },
  {
   "cell_type": "markdown",
   "metadata": {},
   "source": [
    "## Visualization"
   ]
  },
  {
   "cell_type": "code",
   "execution_count": 7,
   "metadata": {},
   "outputs": [],
   "source": [
    "def show_data_gray(data_sample):\n",
    "    plt.imshow(data_sample[0].numpy().reshape(IMAGE_SIZE, IMAGE_SIZE), cmap='gray')\n",
    "    plt.title('y = '+ str(data_sample[1]))"
   ]
  },
  {
   "cell_type": "code",
   "execution_count": 8,
   "metadata": {},
   "outputs": [
    {
     "data": {
      "image/png": "[encoded data removed]",
      "text/plain": [
       "<Figure size 432x288 with 1 Axes>"
      ]
     },
     "metadata": {
      "needs_background": "light"
     },
     "output_type": "display_data"
    }
   ],
   "source": [
    "show_data_gray(train_dataset[2])"
   ]
  },
  {
   "cell_type": "markdown",
   "metadata": {},
   "source": [
    "# Model Definition"
   ]
  },
  {
   "cell_type": "code",
   "execution_count": 9,
   "metadata": {},
   "outputs": [],
   "source": [
    "class ResNet50(nn.Module):\n",
    "    \"\"\"Forward expects inputs of size (m, C, H, W)\"\"\"\n",
    "    \n",
    "    def __init__(self, in_channels, classes=6):\n",
    "        super(ResNet50, self).__init__()\n",
    "        \n",
    "        self.pad = nn.ZeroPad2d((3,3))\n",
    "        \n",
    "        self.stage_1_conv2d = nn.Conv2d(in_channels=in_channels, out_channels=64, kernel_size=(7,7), stride=(2,2), padding='valid')\n",
    "        self.stage_1_batchnorm = nn.BatchNorm2d(num_features=64)\n",
    "        self.stage_1_activation = nn.ReLU()\n",
    "        self.stage_1_pooling = nn.MaxPool2d(kernel_size=(3,3), stride=(2,2))\n",
    "        \n",
    "        self.stage_2_conv_block = self.get_convolutional_block(in_channels=64, f=3, filters=[64, 64, 256], s=1)\n",
    "        self.stage_2_id_block_1 = self.get_identity_block(in_channels=256, f=3, filters=[64, 64, 256])\n",
    "        self.stage_2_id_block_2 = self.get_identity_block(in_channels=256, f=3, filters=[64, 64, 256])\n",
    "        \n",
    "        self.stage_3_conv_block = self.get_convolutional_block(in_channels=256, f=3, filters=[128, 128, 512], s=2)\n",
    "        self.stage_3_id_block_1 = self.get_identity_block(in_channels=512, f=3, filters=[128, 128, 512])\n",
    "        self.stage_3_id_block_2 = self.get_identity_block(in_channels=512, f=3, filters=[128, 128, 512])\n",
    "        \n",
    "        self.stage_4_conv_block = self.get_convolutional_block(in_channels=512, f=3, filters=[256, 256, 1024], s=2)\n",
    "        self.stage_4_id_block_1 = self.get_identity_block(in_channels=1024, f=3, filters=[256, 256, 1024])\n",
    "        self.stage_4_id_block_2 = self.get_identity_block(in_channels=1024, f=3, filters=[256, 256, 1024])\n",
    "        self.stage_4_id_block_3 = self.get_identity_block(in_channels=1024, f=3, filters=[256, 256, 1024])\n",
    "        self.stage_4_id_block_4 = self.get_identity_block(in_channels=1024, f=3, filters=[256, 256, 1024])\n",
    "        self.stage_4_id_block_5 = self.get_identity_block(in_channels=1024, f=3, filters=[256, 256, 1024])\n",
    "        \n",
    "        self.stage_5_conv_block = self.get_convolutional_block(in_channels=1024, f=3, filters=[512, 512, 2048], s=2)\n",
    "        self.stage_5_id_block_1 = self.get_identity_block(in_channels=2048, f=3, filters=[512, 512, 2048])\n",
    "        self.stage_5_id_block_2 = self.get_identity_block(in_channels=2048, f=3, filters=[512, 512, 2048])\n",
    "        \n",
    "        self.avg_pool = nn.AvgPool2d(kernel_size=(2,2))\n",
    "        \n",
    "        self.flat = nn.Flatten()\n",
    "        \n",
    "        self.fc = nn.Linear(2048, classes)\n",
    "    \n",
    "    def get_identity_block(self, in_channels, f, filters):\n",
    "        \n",
    "        block = nn.ModuleList()\n",
    "        \n",
    "        F1, F2, F3 = filters\n",
    "        \n",
    "        block.append(nn.Conv2d(in_channels=in_channels, out_channels=F1, kernel_size=(1,1), stride=(1,1), padding='valid'))\n",
    "        block.append(nn.BatchNorm2d(num_features=F1))\n",
    "        block.append(nn.ReLU())\n",
    "        \n",
    "        block.append(nn.Conv2d(in_channels=F1, out_channels=F2, kernel_size=(f,f), stride=(1,1), padding='same'))\n",
    "        block.append(nn.BatchNorm2d(num_features=F2))\n",
    "        block.append(nn.ReLU())\n",
    "        \n",
    "        block.append(nn.Conv2d(in_channels=F2, out_channels=F3, kernel_size=(1,1), stride=(1,1), padding='valid'))\n",
    "        block.append(nn.BatchNorm2d(num_features=F3))\n",
    "        \n",
    "        block.append(nn.ReLU())\n",
    "        \n",
    "        return block\n",
    "    \n",
    "    \n",
    "    def get_convolutional_block(self, in_channels, f, filters, s=2):\n",
    "        \n",
    "        block = nn.ModuleList()\n",
    "        \n",
    "        F1, F2, F3 = filters\n",
    "        \n",
    "        block.append(nn.Conv2d(in_channels=in_channels, out_channels=F1, kernel_size=(1,1), stride=(s,s), padding='valid'))\n",
    "        block.append(nn.BatchNorm2d(num_features=F1))\n",
    "        block.append(nn.ReLU())\n",
    "\n",
    "        \n",
    "        block.append(nn.Conv2d(in_channels=F1, out_channels=F2, kernel_size=(f,f), stride=(1,1), padding='same'))\n",
    "        block.append(nn.BatchNorm2d(num_features=F2))\n",
    "        block.append(nn.ReLU())\n",
    "        \n",
    "        block.append(nn.Conv2d(in_channels=F2, out_channels=F3, kernel_size=(1,1), stride=(1,1), padding='valid'))\n",
    "        block.append(nn.BatchNorm2d(num_features=F3))\n",
    "        \n",
    "        block.append(nn.Conv2d(in_channels=in_channels, out_channels=F3, kernel_size=(1,1), stride=(s,s), padding='valid'))\n",
    "        block.append(nn.BatchNorm2d(num_features=F3))\n",
    "        \n",
    "        block.append(nn.ReLU())\n",
    "        \n",
    "        return block\n",
    "    \n",
    "    \n",
    "    def forward(self, X):\n",
    "        \n",
    "        X = self.pad(X)\n",
    "        \n",
    "        X = self.stage_1_conv2d(X)\n",
    "        X = self.stage_1_batchnorm(X)\n",
    "        X = self.stage_1_activation(X)\n",
    "        X = self.stage_1_pooling(X)\n",
    "        \n",
    "        X = self.apply_conv_block(X, self.stage_2_conv_block)\n",
    "        X = self.apply_identity_block(X, self.stage_2_id_block_1)\n",
    "        X = self.apply_identity_block(X, self.stage_2_id_block_2)\n",
    "        X = self.apply_conv_block(X, self.stage_3_conv_block)\n",
    "        X = self.apply_identity_block(X, self.stage_3_id_block_1)\n",
    "        X = self.apply_identity_block(X, self.stage_3_id_block_2)\n",
    "        \n",
    "        X = self.apply_conv_block(X, self.stage_4_conv_block)\n",
    "        X = self.apply_identity_block(X, self.stage_4_id_block_1)\n",
    "        X = self.apply_identity_block(X, self.stage_4_id_block_2)\n",
    "        X = self.apply_identity_block(X, self.stage_4_id_block_3)\n",
    "        X = self.apply_identity_block(X, self.stage_4_id_block_4)\n",
    "        X = self.apply_identity_block(X, self.stage_4_id_block_5)\n",
    "        \n",
    "        X = self.apply_conv_block(X, self.stage_5_conv_block)\n",
    "        X = self.apply_identity_block(X, self.stage_5_id_block_1)\n",
    "        X = self.apply_identity_block(X, self.stage_5_id_block_2)\n",
    "        \n",
    "        X =  self.avg_pool(X)\n",
    "        \n",
    "        X = self.flat(X)\n",
    "        X = self.fc(X)\n",
    "        \n",
    "        return X\n",
    "    \n",
    "    \n",
    "    def apply_conv_block(self, X, conv_block):\n",
    "        X_shortcut = X\n",
    "        for component in conv_block[:-3]:\n",
    "            X = component(X)\n",
    "        X_shortcut = conv_block[-3](X_shortcut)\n",
    "        X_shortcut = conv_block[-2](X_shortcut)\n",
    "        X = torch.add(X, X_shortcut)\n",
    "        X = conv_block[-1](X)\n",
    "        return X\n",
    "    \n",
    "    \n",
    "    def apply_identity_block(self, X, block):\n",
    "        X_shortcut = X\n",
    "        for component in block[:-1]:\n",
    "            X = component(X)\n",
    "        X = torch.add(X, X_shortcut)\n",
    "        X = block[-1](X)\n",
    "        return X"
   ]
  },
  {
   "cell_type": "markdown",
   "metadata": {},
   "source": [
    "## Smoke Test"
   ]
  },
  {
   "cell_type": "code",
   "execution_count": 10,
   "metadata": {},
   "outputs": [],
   "source": [
    "c = 3\n",
    "model = ResNet50(in_channels=c)"
   ]
  },
  {
   "cell_type": "code",
   "execution_count": 11,
   "metadata": {
    "scrolled": true
   },
   "outputs": [
    {
     "name": "stdout",
     "output_type": "stream",
     "text": [
      "Predictions :  tensor([[-0.6446, -0.1412,  0.3466, -0.9819, -0.2273, -0.5831],\n",
      "        [-0.6312,  0.4722, -0.1500, -0.8907, -0.3733, -0.1325]],\n",
      "       grad_fn=<AddmmBackward>)\n"
     ]
    },
    {
     "name": "stderr",
     "output_type": "stream",
     "text": [
      "/home/user/.local/lib/python3.9/site-packages/torch/nn/functional.py:718: UserWarning: Named tensors and all their associated APIs are an experimental feature and subject to change. Please do not use them for anything important until they are released as stable. (Triggered internally at  /pytorch/c10/core/TensorImpl.h:1156.)\n",
      "  return torch.max_pool2d(input, kernel_size, stride, padding, dilation, ceil_mode)\n"
     ]
    }
   ],
   "source": [
    "batch_size = 2\n",
    "h = 64\n",
    "w = 64\n",
    "\n",
    "predictions = model(torch.randn((batch_size,c,h,w)))\n",
    "print(\"Predictions : \", predictions)"
   ]
  },
  {
   "cell_type": "markdown",
   "metadata": {},
   "source": [
    "# Training"
   ]
  },
  {
   "cell_type": "code",
   "execution_count": 20,
   "metadata": {},
   "outputs": [
    {
     "name": "stdout",
     "output_type": "stream",
     "text": [
      "Model created on device cuda:0, model parameters on cuda : True\n"
     ]
    }
   ],
   "source": [
    "torch.cuda.empty_cache()\n",
    "device = torch.device(\"cuda:0\" if torch.cuda.is_available() else \"cpu\")\n",
    "model = ResNet50(in_channels=1, classes=10).to(device)\n",
    "print(f\"Model created on device {device}, model parameters on cuda : {next(model.parameters()).is_cuda}\")"
   ]
  },
  {
   "cell_type": "markdown",
   "metadata": {},
   "source": [
    "## Hyperparameters"
   ]
  },
  {
   "cell_type": "code",
   "execution_count": 21,
   "metadata": {},
   "outputs": [],
   "source": [
    "learning_rate = 0.1"
   ]
  },
  {
   "cell_type": "code",
   "execution_count": 22,
   "metadata": {},
   "outputs": [],
   "source": [
    "criterion = nn.CrossEntropyLoss()\n",
    "optimizer = torch.optim.SGD(model.parameters(), lr = learning_rate)"
   ]
  },
  {
   "cell_type": "code",
   "execution_count": 23,
   "metadata": {},
   "outputs": [],
   "source": [
    "train_batch_size=1000\n",
    "train_loader = torch.utils.data.DataLoader(dataset=train_dataset, batch_size=train_batch_size)\n",
    "\n",
    "test_batch_size=1000\n",
    "test_loader = torch.utils.data.DataLoader(dataset=test_dataset, batch_size=test_batch_size)"
   ]
  },
  {
   "cell_type": "code",
   "execution_count": 24,
   "metadata": {},
   "outputs": [],
   "source": [
    "def train_model(model,train_loader,test_loader,optimizer,n_epochs=4):\n",
    "    accuracy_list=[]\n",
    "    loss_list=[]\n",
    "    for epoch in range(n_epochs):\n",
    "        model.train()\n",
    "        with tqdm(train_loader, unit=\"batch\") as train_epoch:\n",
    "            for x, y in train_epoch:\n",
    "                x = x.to(device)\n",
    "                y = y.to(device)\n",
    "                train_epoch.set_description(f\"Epoch {epoch} (Training)\")\n",
    "                optimizer.zero_grad()\n",
    "                z = model(x)\n",
    "                loss = criterion(z, y)\n",
    "                loss.backward()\n",
    "                optimizer.step()\n",
    "                loss_list.append(loss.item())\n",
    "                train_epoch.set_postfix(loss=loss.item())\n",
    "\n",
    "        correct=0\n",
    "        model.eval()\n",
    "        with tqdm(test_loader, unit=\"batch\") as test_epoch:\n",
    "            for x_test, y_test in test_epoch:\n",
    "                test_epoch.set_description(f\"Epoch {epoch} (Testing)\")\n",
    "                with torch.no_grad():\n",
    "                    x_test = x_test.to(device)\n",
    "                    y_test = y_test.to(device)\n",
    "                    z = model(x_test)\n",
    "                    _, yhat = torch.max(z.data, 1)\n",
    "                    correct_batch = (yhat == y_test).sum().item()\n",
    "                    correct += correct_batch\n",
    "                    test_epoch.set_postfix(accuracy=correct_batch / len(y_test))\n",
    "        accuracy = correct / len(test_dataset)\n",
    "        accuracy_list.append(accuracy)\n",
    "     \n",
    "    return accuracy_list, loss_list"
   ]
  },
  {
   "cell_type": "code",
   "execution_count": 25,
   "metadata": {},
   "outputs": [
    {
     "name": "stderr",
     "output_type": "stream",
     "text": [
      "Epoch 0 (Training): 100%|████████| 60/60 [00:39<00:00,  1.51batch/s, loss=1.34]\n",
      "Epoch 0 (Testing): 100%|████| 10/10 [00:03<00:00,  3.12batch/s, accuracy=0.506]\n",
      "Epoch 1 (Training): 100%|███████| 60/60 [00:40<00:00,  1.50batch/s, loss=0.136]\n",
      "Epoch 1 (Testing): 100%|████| 10/10 [00:02<00:00,  3.41batch/s, accuracy=0.962]\n",
      "Epoch 2 (Training): 100%|██████| 60/60 [00:37<00:00,  1.61batch/s, loss=0.0642]\n",
      "Epoch 2 (Testing): 100%|████| 10/10 [00:02<00:00,  3.36batch/s, accuracy=0.981]\n",
      "Epoch 3 (Training): 100%|██████| 60/60 [00:36<00:00,  1.65batch/s, loss=0.0417]\n",
      "Epoch 3 (Testing): 100%|████| 10/10 [00:02<00:00,  3.43batch/s, accuracy=0.984]\n",
      "Epoch 4 (Training): 100%|██████| 60/60 [00:35<00:00,  1.68batch/s, loss=0.0343]\n",
      "Epoch 4 (Testing): 100%|████| 10/10 [00:03<00:00,  3.08batch/s, accuracy=0.987]\n",
      "Epoch 5 (Training): 100%|██████| 60/60 [00:43<00:00,  1.39batch/s, loss=0.0299]\n",
      "Epoch 5 (Testing): 100%|████| 10/10 [00:03<00:00,  2.93batch/s, accuracy=0.987]\n",
      "Epoch 6 (Training): 100%|██████| 60/60 [00:33<00:00,  1.77batch/s, loss=0.0252]\n",
      "Epoch 6 (Testing): 100%|████| 10/10 [00:02<00:00,  3.59batch/s, accuracy=0.992]\n",
      "Epoch 7 (Training): 100%|██████| 60/60 [00:34<00:00,  1.73batch/s, loss=0.0197]\n",
      "Epoch 7 (Testing): 100%|████| 10/10 [00:02<00:00,  3.58batch/s, accuracy=0.994]\n",
      "Epoch 8 (Training): 100%|██████| 60/60 [00:33<00:00,  1.77batch/s, loss=0.0169]\n",
      "Epoch 8 (Testing): 100%|████| 10/10 [00:02<00:00,  3.61batch/s, accuracy=0.992]\n",
      "Epoch 9 (Training): 100%|██████| 60/60 [00:34<00:00,  1.73batch/s, loss=0.0115]\n",
      "Epoch 9 (Testing): 100%|████| 10/10 [00:02<00:00,  3.54batch/s, accuracy=0.994]\n"
     ]
    }
   ],
   "source": [
    "accuracies, losses=train_model(\n",
    "    model=model,\n",
    "    n_epochs=10,\n",
    "    train_loader=train_loader,\n",
    "    test_loader=test_loader,\n",
    "    optimizer=optimizer\n",
    ")"
   ]
  },
  {
   "cell_type": "markdown",
   "metadata": {},
   "source": [
    "## Results"
   ]
  },
  {
   "cell_type": "code",
   "execution_count": 65,
   "metadata": {},
   "outputs": [
    {
     "data": {
      "text/plain": [
       "<matplotlib.legend.Legend at 0x7f8fdcb3b700>"
      ]
     },
     "execution_count": 65,
     "metadata": {},
     "output_type": "execute_result"
    },
    {
     "data": {
      "image/png": "[encoded data removed]",
      "text/plain": [
       "<Figure size 432x288 with 1 Axes>"
      ]
     },
     "metadata": {
      "needs_background": "light"
     },
     "output_type": "display_data"
    }
   ],
   "source": [
    "plt.plot(losses, 'b',label='ResNet50')\n",
    "plt.xlabel('iteration')\n",
    "plt.title(\"loss\")\n",
    "plt.legend()"
   ]
  },
  {
   "cell_type": "code",
   "execution_count": 27,
   "metadata": {},
   "outputs": [
    {
     "data": {
      "image/png": "[encoded data removed]",
      "text/plain": [
       "<Figure size 432x288 with 1 Axes>"
      ]
     },
     "metadata": {
      "needs_background": "light"
     },
     "output_type": "display_data"
    }
   ],
   "source": [
    "plt.plot(accuracies, 'b',label=' ResNet50')\n",
    "plt.xlabel('Epoch')\n",
    "plt.title(\"Accuracy \")\n",
    "plt.legend()\n",
    "plt.show()"
   ]
  },
  {
   "cell_type": "code",
   "execution_count": null,
   "metadata": {},
   "outputs": [],
   "source": []
  }
 ],
 "metadata": {
  "kernelspec": {
   "display_name": "resnet",
   "language": "python",
   "name": "resnet"
  },
  "language_info": {
   "codemirror_mode": {
    "name": "ipython",
    "version": 3
   },
   "file_extension": ".py",
   "mimetype": "text/x-python",
   "name": "python",
   "nbconvert_exporter": "python",
   "pygments_lexer": "ipython3",
   "version": "3.9.6"
  }
 },
 "nbformat": 4,
 "nbformat_minor": 4
}
